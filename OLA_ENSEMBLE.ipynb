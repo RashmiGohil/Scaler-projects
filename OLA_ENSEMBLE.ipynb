{
  "nbformat": 4,
  "nbformat_minor": 0,
  "metadata": {
    "colab": {
      "provenance": [],
      "authorship_tag": "ABX9TyNJ3D7BFPjSgYXDtsYKWXA4",
      "include_colab_link": true
    },
    "kernelspec": {
      "name": "python3",
      "display_name": "Python 3"
    },
    "language_info": {
      "name": "python"
    }
  },
  "cells": [
    {
      "cell_type": "markdown",
      "metadata": {
        "id": "view-in-github",
        "colab_type": "text"
      },
      "source": [
        "<a href=\"https://colab.research.google.com/github/RashmiGohil/Scaler-projects/blob/main/OLA_ENSEMBLE.ipynb\" target=\"_parent\"><img src=\"https://colab.research.google.com/assets/colab-badge.svg\" alt=\"Open In Colab\"/></a>"
      ]
    },
    {
      "cell_type": "code",
      "execution_count": 2,
      "metadata": {
        "id": "JfSHIe3QKZn-"
      },
      "outputs": [],
      "source": [
        "#1. Data Loading and Initial Exploration\n",
        "import pandas as pd\n",
        "\n",
        "# Load the dataset\n",
        "url='https://d2beiqkhq929f0.cloudfront.net/public_assets/assets/000/002/492/original/ola_driver_scaler.csv'\n",
        "df = pd.read_csv(url)"
      ]
    },
    {
      "cell_type": "code",
      "source": [
        "#Display the first 5 rows\n",
        "print(df.head())"
      ],
      "metadata": {
        "colab": {
          "base_uri": "https://localhost:8080/"
        },
        "id": "sw1056QxN3Ii",
        "outputId": "37f1c159-845d-4642-d4d1-4e2da1194743"
      },
      "execution_count": 3,
      "outputs": [
        {
          "output_type": "stream",
          "name": "stdout",
          "text": [
            "   Unnamed: 0    MMM-YY  Driver_ID   Age  Gender City  Education_Level  \\\n",
            "0           0  01/01/19          1  28.0     0.0  C23                2   \n",
            "1           1  02/01/19          1  28.0     0.0  C23                2   \n",
            "2           2  03/01/19          1  28.0     0.0  C23                2   \n",
            "3           3  11/01/20          2  31.0     0.0   C7                2   \n",
            "4           4  12/01/20          2  31.0     0.0   C7                2   \n",
            "\n",
            "   Income Dateofjoining LastWorkingDate  Joining Designation  Grade  \\\n",
            "0   57387      24/12/18             NaN                    1      1   \n",
            "1   57387      24/12/18             NaN                    1      1   \n",
            "2   57387      24/12/18        03/11/19                    1      1   \n",
            "3   67016      11/06/20             NaN                    2      2   \n",
            "4   67016      11/06/20             NaN                    2      2   \n",
            "\n",
            "   Total Business Value  Quarterly Rating  \n",
            "0               2381060                 2  \n",
            "1               -665480                 2  \n",
            "2                     0                 2  \n",
            "3                     0                 1  \n",
            "4                     0                 1  \n"
          ]
        }
      ]
    },
    {
      "cell_type": "code",
      "source": [
        "#display the information about alll the columns\n",
        "print(df.info())"
      ],
      "metadata": {
        "colab": {
          "base_uri": "https://localhost:8080/"
        },
        "id": "Sl3afEQIN77y",
        "outputId": "3babc376-2d29-4999-8e9e-c8f5fb4591c5"
      },
      "execution_count": 4,
      "outputs": [
        {
          "output_type": "stream",
          "name": "stdout",
          "text": [
            "<class 'pandas.core.frame.DataFrame'>\n",
            "RangeIndex: 19104 entries, 0 to 19103\n",
            "Data columns (total 14 columns):\n",
            " #   Column                Non-Null Count  Dtype  \n",
            "---  ------                --------------  -----  \n",
            " 0   Unnamed: 0            19104 non-null  int64  \n",
            " 1   MMM-YY                19104 non-null  object \n",
            " 2   Driver_ID             19104 non-null  int64  \n",
            " 3   Age                   19043 non-null  float64\n",
            " 4   Gender                19052 non-null  float64\n",
            " 5   City                  19104 non-null  object \n",
            " 6   Education_Level       19104 non-null  int64  \n",
            " 7   Income                19104 non-null  int64  \n",
            " 8   Dateofjoining         19104 non-null  object \n",
            " 9   LastWorkingDate       1616 non-null   object \n",
            " 10  Joining Designation   19104 non-null  int64  \n",
            " 11  Grade                 19104 non-null  int64  \n",
            " 12  Total Business Value  19104 non-null  int64  \n",
            " 13  Quarterly Rating      19104 non-null  int64  \n",
            "dtypes: float64(2), int64(8), object(4)\n",
            "memory usage: 2.0+ MB\n",
            "None\n"
          ]
        }
      ]
    },
    {
      "cell_type": "code",
      "source": [
        "#check for missing values\n",
        "print(df.isnull().sum())"
      ],
      "metadata": {
        "colab": {
          "base_uri": "https://localhost:8080/"
        },
        "id": "O7Y52_BDN9UG",
        "outputId": "b026f16d-bf73-41cc-acef-5882ef213fee"
      },
      "execution_count": 5,
      "outputs": [
        {
          "output_type": "stream",
          "name": "stdout",
          "text": [
            "Unnamed: 0                  0\n",
            "MMM-YY                      0\n",
            "Driver_ID                   0\n",
            "Age                        61\n",
            "Gender                     52\n",
            "City                        0\n",
            "Education_Level             0\n",
            "Income                      0\n",
            "Dateofjoining               0\n",
            "LastWorkingDate         17488\n",
            "Joining Designation         0\n",
            "Grade                       0\n",
            "Total Business Value        0\n",
            "Quarterly Rating            0\n",
            "dtype: int64\n"
          ]
        }
      ]
    },
    {
      "cell_type": "code",
      "source": [
        "#date conversion\n",
        "#convert date columns to datetime format\n",
        "df['Dateofjoining']=pd.to_datetime(df['Dateofjoining'],errors='coerce')\n",
        "df['LastWorkingDate']=pd.to_datetime(df['LastWorkingDate'],errors='coerce')\n",
        "df['MMM-YY']=pd.to_datetime(df['MMM-YY'],format='%B-%y',errors='coerce')"
      ],
      "metadata": {
        "id": "j7UZhA6RPQO4"
      },
      "execution_count": 7,
      "outputs": []
    },
    {
      "cell_type": "code",
      "source": [
        "#Handling missing values with KNN Imputation\n",
        "from sklearn.impute import KNNImputer\n",
        "from sklearn.preprocessing import StandardScaler"
      ],
      "metadata": {
        "id": "CiVFiIYRRcAb"
      },
      "execution_count": 8,
      "outputs": []
    },
    {
      "cell_type": "code",
      "source": [
        "#select numerical columns for imputation\n",
        "num_cols=df.select_dtypes(include=['float64','int64']).columns\n",
        "df_num=df[num_cols]"
      ],
      "metadata": {
        "id": "vGEEsapaUHiR"
      },
      "execution_count": 9,
      "outputs": []
    },
    {
      "cell_type": "code",
      "source": [
        "#Standardise the numerical features\n",
        "scaler=StandardScaler()\n",
        "df_num_scaled=scaler.fit_transform(df_num)"
      ],
      "metadata": {
        "id": "BOTib11yV5CI"
      },
      "execution_count": 10,
      "outputs": []
    },
    {
      "cell_type": "code",
      "source": [
        "# Apply KNN Imputation\n",
        "imputer = KNNImputer(n_neighbors=5)\n",
        "df_num_imputed = imputer.fit_transform(df_num_scaled)"
      ],
      "metadata": {
        "id": "dIRvAH2sYKWY"
      },
      "execution_count": 11,
      "outputs": []
    },
    {
      "cell_type": "code",
      "source": [
        "# Replace the original numerical data with imputed data\n",
        "df[num_cols] = scaler.inverse_transform(df_num_imputed)"
      ],
      "metadata": {
        "id": "EURnt_GsXi4n"
      },
      "execution_count": 12,
      "outputs": []
    },
    {
      "cell_type": "code",
      "source": [
        "#4. Data Aggregation per Driver\n",
        "# Aggregate data by Driver_ID\n",
        "agg_funcs = {\n",
        "    'Age': 'first',\n",
        "    'Gender': 'first',\n",
        "    'City': 'first',\n",
        "    'Education_Level': 'first',\n",
        "    'Income': 'mean',\n",
        "    'Dateofjoining': 'first',\n",
        "    'LastWorkingDate': 'last',\n",
        "    'Joining Designation': 'first',\n",
        "    'Grade': 'last',\n",
        "    'Total Business Value': 'mean',\n",
        "    'Quarterly Rating': 'mean'\n",
        "}\n",
        "df_agg = df.groupby('Driver_ID').agg(agg_funcs).reset_index()"
      ],
      "metadata": {
        "id": "BlszAUr3YxCE"
      },
      "execution_count": 14,
      "outputs": []
    },
    {
      "cell_type": "code",
      "source": [
        "df.head()"
      ],
      "metadata": {
        "colab": {
          "base_uri": "https://localhost:8080/",
          "height": 206
        },
        "id": "bqx5hn2DZdX5",
        "outputId": "fcfa8bd3-af37-40bd-a8b7-fe9281cee9c3"
      },
      "execution_count": 15,
      "outputs": [
        {
          "output_type": "execute_result",
          "data": {
            "text/plain": [
              "   Unnamed: 0 MMM-YY  Driver_ID   Age  Gender City  Education_Level   Income  \\\n",
              "0         0.0    NaT        1.0  28.0     0.0  C23              2.0  57387.0   \n",
              "1         1.0    NaT        1.0  28.0     0.0  C23              2.0  57387.0   \n",
              "2         2.0    NaT        1.0  28.0     0.0  C23              2.0  57387.0   \n",
              "3         3.0    NaT        2.0  31.0     0.0   C7              2.0  67016.0   \n",
              "4         4.0    NaT        2.0  31.0     0.0   C7              2.0  67016.0   \n",
              "\n",
              "  Dateofjoining LastWorkingDate  Joining Designation  Grade  \\\n",
              "0    2018-12-24             NaT                  1.0    1.0   \n",
              "1    2018-12-24             NaT                  1.0    1.0   \n",
              "2    2018-12-24      2019-03-11                  1.0    1.0   \n",
              "3    2020-11-06             NaT                  2.0    2.0   \n",
              "4    2020-11-06             NaT                  2.0    2.0   \n",
              "\n",
              "   Total Business Value  Quarterly Rating  \n",
              "0          2.381060e+06               2.0  \n",
              "1         -6.654800e+05               2.0  \n",
              "2          1.164153e-10               2.0  \n",
              "3          1.164153e-10               1.0  \n",
              "4          1.164153e-10               1.0  "
            ],
            "text/html": [
              "\n",
              "  <div id=\"df-d1060209-0e8c-43d3-ba8f-b972a07fa025\" class=\"colab-df-container\">\n",
              "    <div>\n",
              "<style scoped>\n",
              "    .dataframe tbody tr th:only-of-type {\n",
              "        vertical-align: middle;\n",
              "    }\n",
              "\n",
              "    .dataframe tbody tr th {\n",
              "        vertical-align: top;\n",
              "    }\n",
              "\n",
              "    .dataframe thead th {\n",
              "        text-align: right;\n",
              "    }\n",
              "</style>\n",
              "<table border=\"1\" class=\"dataframe\">\n",
              "  <thead>\n",
              "    <tr style=\"text-align: right;\">\n",
              "      <th></th>\n",
              "      <th>Unnamed: 0</th>\n",
              "      <th>MMM-YY</th>\n",
              "      <th>Driver_ID</th>\n",
              "      <th>Age</th>\n",
              "      <th>Gender</th>\n",
              "      <th>City</th>\n",
              "      <th>Education_Level</th>\n",
              "      <th>Income</th>\n",
              "      <th>Dateofjoining</th>\n",
              "      <th>LastWorkingDate</th>\n",
              "      <th>Joining Designation</th>\n",
              "      <th>Grade</th>\n",
              "      <th>Total Business Value</th>\n",
              "      <th>Quarterly Rating</th>\n",
              "    </tr>\n",
              "  </thead>\n",
              "  <tbody>\n",
              "    <tr>\n",
              "      <th>0</th>\n",
              "      <td>0.0</td>\n",
              "      <td>NaT</td>\n",
              "      <td>1.0</td>\n",
              "      <td>28.0</td>\n",
              "      <td>0.0</td>\n",
              "      <td>C23</td>\n",
              "      <td>2.0</td>\n",
              "      <td>57387.0</td>\n",
              "      <td>2018-12-24</td>\n",
              "      <td>NaT</td>\n",
              "      <td>1.0</td>\n",
              "      <td>1.0</td>\n",
              "      <td>2.381060e+06</td>\n",
              "      <td>2.0</td>\n",
              "    </tr>\n",
              "    <tr>\n",
              "      <th>1</th>\n",
              "      <td>1.0</td>\n",
              "      <td>NaT</td>\n",
              "      <td>1.0</td>\n",
              "      <td>28.0</td>\n",
              "      <td>0.0</td>\n",
              "      <td>C23</td>\n",
              "      <td>2.0</td>\n",
              "      <td>57387.0</td>\n",
              "      <td>2018-12-24</td>\n",
              "      <td>NaT</td>\n",
              "      <td>1.0</td>\n",
              "      <td>1.0</td>\n",
              "      <td>-6.654800e+05</td>\n",
              "      <td>2.0</td>\n",
              "    </tr>\n",
              "    <tr>\n",
              "      <th>2</th>\n",
              "      <td>2.0</td>\n",
              "      <td>NaT</td>\n",
              "      <td>1.0</td>\n",
              "      <td>28.0</td>\n",
              "      <td>0.0</td>\n",
              "      <td>C23</td>\n",
              "      <td>2.0</td>\n",
              "      <td>57387.0</td>\n",
              "      <td>2018-12-24</td>\n",
              "      <td>2019-03-11</td>\n",
              "      <td>1.0</td>\n",
              "      <td>1.0</td>\n",
              "      <td>1.164153e-10</td>\n",
              "      <td>2.0</td>\n",
              "    </tr>\n",
              "    <tr>\n",
              "      <th>3</th>\n",
              "      <td>3.0</td>\n",
              "      <td>NaT</td>\n",
              "      <td>2.0</td>\n",
              "      <td>31.0</td>\n",
              "      <td>0.0</td>\n",
              "      <td>C7</td>\n",
              "      <td>2.0</td>\n",
              "      <td>67016.0</td>\n",
              "      <td>2020-11-06</td>\n",
              "      <td>NaT</td>\n",
              "      <td>2.0</td>\n",
              "      <td>2.0</td>\n",
              "      <td>1.164153e-10</td>\n",
              "      <td>1.0</td>\n",
              "    </tr>\n",
              "    <tr>\n",
              "      <th>4</th>\n",
              "      <td>4.0</td>\n",
              "      <td>NaT</td>\n",
              "      <td>2.0</td>\n",
              "      <td>31.0</td>\n",
              "      <td>0.0</td>\n",
              "      <td>C7</td>\n",
              "      <td>2.0</td>\n",
              "      <td>67016.0</td>\n",
              "      <td>2020-11-06</td>\n",
              "      <td>NaT</td>\n",
              "      <td>2.0</td>\n",
              "      <td>2.0</td>\n",
              "      <td>1.164153e-10</td>\n",
              "      <td>1.0</td>\n",
              "    </tr>\n",
              "  </tbody>\n",
              "</table>\n",
              "</div>\n",
              "    <div class=\"colab-df-buttons\">\n",
              "\n",
              "  <div class=\"colab-df-container\">\n",
              "    <button class=\"colab-df-convert\" onclick=\"convertToInteractive('df-d1060209-0e8c-43d3-ba8f-b972a07fa025')\"\n",
              "            title=\"Convert this dataframe to an interactive table.\"\n",
              "            style=\"display:none;\">\n",
              "\n",
              "  <svg xmlns=\"http://www.w3.org/2000/svg\" height=\"24px\" viewBox=\"0 -960 960 960\">\n",
              "    <path d=\"M120-120v-720h720v720H120Zm60-500h600v-160H180v160Zm220 220h160v-160H400v160Zm0 220h160v-160H400v160ZM180-400h160v-160H180v160Zm440 0h160v-160H620v160ZM180-180h160v-160H180v160Zm440 0h160v-160H620v160Z\"/>\n",
              "  </svg>\n",
              "    </button>\n",
              "\n",
              "  <style>\n",
              "    .colab-df-container {\n",
              "      display:flex;\n",
              "      gap: 12px;\n",
              "    }\n",
              "\n",
              "    .colab-df-convert {\n",
              "      background-color: #E8F0FE;\n",
              "      border: none;\n",
              "      border-radius: 50%;\n",
              "      cursor: pointer;\n",
              "      display: none;\n",
              "      fill: #1967D2;\n",
              "      height: 32px;\n",
              "      padding: 0 0 0 0;\n",
              "      width: 32px;\n",
              "    }\n",
              "\n",
              "    .colab-df-convert:hover {\n",
              "      background-color: #E2EBFA;\n",
              "      box-shadow: 0px 1px 2px rgba(60, 64, 67, 0.3), 0px 1px 3px 1px rgba(60, 64, 67, 0.15);\n",
              "      fill: #174EA6;\n",
              "    }\n",
              "\n",
              "    .colab-df-buttons div {\n",
              "      margin-bottom: 4px;\n",
              "    }\n",
              "\n",
              "    [theme=dark] .colab-df-convert {\n",
              "      background-color: #3B4455;\n",
              "      fill: #D2E3FC;\n",
              "    }\n",
              "\n",
              "    [theme=dark] .colab-df-convert:hover {\n",
              "      background-color: #434B5C;\n",
              "      box-shadow: 0px 1px 3px 1px rgba(0, 0, 0, 0.15);\n",
              "      filter: drop-shadow(0px 1px 2px rgba(0, 0, 0, 0.3));\n",
              "      fill: #FFFFFF;\n",
              "    }\n",
              "  </style>\n",
              "\n",
              "    <script>\n",
              "      const buttonEl =\n",
              "        document.querySelector('#df-d1060209-0e8c-43d3-ba8f-b972a07fa025 button.colab-df-convert');\n",
              "      buttonEl.style.display =\n",
              "        google.colab.kernel.accessAllowed ? 'block' : 'none';\n",
              "\n",
              "      async function convertToInteractive(key) {\n",
              "        const element = document.querySelector('#df-d1060209-0e8c-43d3-ba8f-b972a07fa025');\n",
              "        const dataTable =\n",
              "          await google.colab.kernel.invokeFunction('convertToInteractive',\n",
              "                                                    [key], {});\n",
              "        if (!dataTable) return;\n",
              "\n",
              "        const docLinkHtml = 'Like what you see? Visit the ' +\n",
              "          '<a target=\"_blank\" href=https://colab.research.google.com/notebooks/data_table.ipynb>data table notebook</a>'\n",
              "          + ' to learn more about interactive tables.';\n",
              "        element.innerHTML = '';\n",
              "        dataTable['output_type'] = 'display_data';\n",
              "        await google.colab.output.renderOutput(dataTable, element);\n",
              "        const docLink = document.createElement('div');\n",
              "        docLink.innerHTML = docLinkHtml;\n",
              "        element.appendChild(docLink);\n",
              "      }\n",
              "    </script>\n",
              "  </div>\n",
              "\n",
              "\n",
              "    <div id=\"df-e6502c53-4f03-483f-a397-cd9c6673e269\">\n",
              "      <button class=\"colab-df-quickchart\" onclick=\"quickchart('df-e6502c53-4f03-483f-a397-cd9c6673e269')\"\n",
              "                title=\"Suggest charts\"\n",
              "                style=\"display:none;\">\n",
              "\n",
              "<svg xmlns=\"http://www.w3.org/2000/svg\" height=\"24px\"viewBox=\"0 0 24 24\"\n",
              "     width=\"24px\">\n",
              "    <g>\n",
              "        <path d=\"M19 3H5c-1.1 0-2 .9-2 2v14c0 1.1.9 2 2 2h14c1.1 0 2-.9 2-2V5c0-1.1-.9-2-2-2zM9 17H7v-7h2v7zm4 0h-2V7h2v10zm4 0h-2v-4h2v4z\"/>\n",
              "    </g>\n",
              "</svg>\n",
              "      </button>\n",
              "\n",
              "<style>\n",
              "  .colab-df-quickchart {\n",
              "      --bg-color: #E8F0FE;\n",
              "      --fill-color: #1967D2;\n",
              "      --hover-bg-color: #E2EBFA;\n",
              "      --hover-fill-color: #174EA6;\n",
              "      --disabled-fill-color: #AAA;\n",
              "      --disabled-bg-color: #DDD;\n",
              "  }\n",
              "\n",
              "  [theme=dark] .colab-df-quickchart {\n",
              "      --bg-color: #3B4455;\n",
              "      --fill-color: #D2E3FC;\n",
              "      --hover-bg-color: #434B5C;\n",
              "      --hover-fill-color: #FFFFFF;\n",
              "      --disabled-bg-color: #3B4455;\n",
              "      --disabled-fill-color: #666;\n",
              "  }\n",
              "\n",
              "  .colab-df-quickchart {\n",
              "    background-color: var(--bg-color);\n",
              "    border: none;\n",
              "    border-radius: 50%;\n",
              "    cursor: pointer;\n",
              "    display: none;\n",
              "    fill: var(--fill-color);\n",
              "    height: 32px;\n",
              "    padding: 0;\n",
              "    width: 32px;\n",
              "  }\n",
              "\n",
              "  .colab-df-quickchart:hover {\n",
              "    background-color: var(--hover-bg-color);\n",
              "    box-shadow: 0 1px 2px rgba(60, 64, 67, 0.3), 0 1px 3px 1px rgba(60, 64, 67, 0.15);\n",
              "    fill: var(--button-hover-fill-color);\n",
              "  }\n",
              "\n",
              "  .colab-df-quickchart-complete:disabled,\n",
              "  .colab-df-quickchart-complete:disabled:hover {\n",
              "    background-color: var(--disabled-bg-color);\n",
              "    fill: var(--disabled-fill-color);\n",
              "    box-shadow: none;\n",
              "  }\n",
              "\n",
              "  .colab-df-spinner {\n",
              "    border: 2px solid var(--fill-color);\n",
              "    border-color: transparent;\n",
              "    border-bottom-color: var(--fill-color);\n",
              "    animation:\n",
              "      spin 1s steps(1) infinite;\n",
              "  }\n",
              "\n",
              "  @keyframes spin {\n",
              "    0% {\n",
              "      border-color: transparent;\n",
              "      border-bottom-color: var(--fill-color);\n",
              "      border-left-color: var(--fill-color);\n",
              "    }\n",
              "    20% {\n",
              "      border-color: transparent;\n",
              "      border-left-color: var(--fill-color);\n",
              "      border-top-color: var(--fill-color);\n",
              "    }\n",
              "    30% {\n",
              "      border-color: transparent;\n",
              "      border-left-color: var(--fill-color);\n",
              "      border-top-color: var(--fill-color);\n",
              "      border-right-color: var(--fill-color);\n",
              "    }\n",
              "    40% {\n",
              "      border-color: transparent;\n",
              "      border-right-color: var(--fill-color);\n",
              "      border-top-color: var(--fill-color);\n",
              "    }\n",
              "    60% {\n",
              "      border-color: transparent;\n",
              "      border-right-color: var(--fill-color);\n",
              "    }\n",
              "    80% {\n",
              "      border-color: transparent;\n",
              "      border-right-color: var(--fill-color);\n",
              "      border-bottom-color: var(--fill-color);\n",
              "    }\n",
              "    90% {\n",
              "      border-color: transparent;\n",
              "      border-bottom-color: var(--fill-color);\n",
              "    }\n",
              "  }\n",
              "</style>\n",
              "\n",
              "      <script>\n",
              "        async function quickchart(key) {\n",
              "          const quickchartButtonEl =\n",
              "            document.querySelector('#' + key + ' button');\n",
              "          quickchartButtonEl.disabled = true;  // To prevent multiple clicks.\n",
              "          quickchartButtonEl.classList.add('colab-df-spinner');\n",
              "          try {\n",
              "            const charts = await google.colab.kernel.invokeFunction(\n",
              "                'suggestCharts', [key], {});\n",
              "          } catch (error) {\n",
              "            console.error('Error during call to suggestCharts:', error);\n",
              "          }\n",
              "          quickchartButtonEl.classList.remove('colab-df-spinner');\n",
              "          quickchartButtonEl.classList.add('colab-df-quickchart-complete');\n",
              "        }\n",
              "        (() => {\n",
              "          let quickchartButtonEl =\n",
              "            document.querySelector('#df-e6502c53-4f03-483f-a397-cd9c6673e269 button');\n",
              "          quickchartButtonEl.style.display =\n",
              "            google.colab.kernel.accessAllowed ? 'block' : 'none';\n",
              "        })();\n",
              "      </script>\n",
              "    </div>\n",
              "\n",
              "    </div>\n",
              "  </div>\n"
            ],
            "application/vnd.google.colaboratory.intrinsic+json": {
              "type": "dataframe",
              "variable_name": "df",
              "summary": "{\n  \"name\": \"df\",\n  \"rows\": 19104,\n  \"fields\": [\n    {\n      \"column\": \"Unnamed: 0\",\n      \"properties\": {\n        \"dtype\": \"number\",\n        \"std\": 5514.994106977812,\n        \"min\": 0.0,\n        \"max\": 19103.0,\n        \"num_unique_values\": 19104,\n        \"samples\": [\n          18299.0,\n          9376.0,\n          4518.0\n        ],\n        \"semantic_type\": \"\",\n        \"description\": \"\"\n      }\n    },\n    {\n      \"column\": \"MMM-YY\",\n      \"properties\": {\n        \"dtype\": \"date\",\n        \"min\": \"NaT\",\n        \"max\": \"NaT\",\n        \"num_unique_values\": 0,\n        \"samples\": [],\n        \"semantic_type\": \"\",\n        \"description\": \"\"\n      }\n    },\n    {\n      \"column\": \"Driver_ID\",\n      \"properties\": {\n        \"dtype\": \"number\",\n        \"std\": 810.7053208637183,\n        \"min\": 1.0,\n        \"max\": 2788.0,\n        \"num_unique_values\": 2381,\n        \"samples\": [],\n        \"semantic_type\": \"\",\n        \"description\": \"\"\n      }\n    },\n    {\n      \"column\": \"Age\",\n      \"properties\": {\n        \"dtype\": \"number\",\n        \"std\": 6.2599922663478855,\n        \"min\": 21.0,\n        \"max\": 58.0,\n        \"num_unique_values\": 67,\n        \"samples\": [],\n        \"semantic_type\": \"\",\n        \"description\": \"\"\n      }\n    },\n    {\n      \"column\": \"Gender\",\n      \"properties\": {\n        \"dtype\": \"number\",\n        \"std\": 0.4931813355356683,\n        \"min\": 0.0,\n        \"max\": 1.0,\n        \"num_unique_values\": 8,\n        \"samples\": [],\n        \"semantic_type\": \"\",\n        \"description\": \"\"\n      }\n    },\n    {\n      \"column\": \"City\",\n      \"properties\": {\n        \"dtype\": \"category\",\n        \"num_unique_values\": 29,\n        \"samples\": [],\n        \"semantic_type\": \"\",\n        \"description\": \"\"\n      }\n    },\n    {\n      \"column\": \"Education_Level\",\n      \"properties\": {\n        \"dtype\": \"number\",\n        \"std\": 0.8001671116073559,\n        \"min\": 0.0,\n        \"max\": 2.0,\n        \"num_unique_values\": 3,\n        \"samples\": [],\n        \"semantic_type\": \"\",\n        \"description\": \"\"\n      }\n    },\n    {\n      \"column\": \"Income\",\n      \"properties\": {\n        \"dtype\": \"number\",\n        \"std\": 30914.515344441774,\n        \"min\": 10747.0,\n        \"max\": 188418.0,\n        \"num_unique_values\": 2383,\n        \"samples\": [],\n        \"semantic_type\": \"\",\n        \"description\": \"\"\n      }\n    },\n    {\n      \"column\": \"Dateofjoining\",\n      \"properties\": {\n        \"dtype\": \"date\",\n        \"min\": \"2013-04-01 00:00:00\",\n        \"max\": \"2020-12-28 00:00:00\",\n        \"num_unique_values\": 869,\n        \"samples\": [],\n        \"semantic_type\": \"\",\n        \"description\": \"\"\n      }\n    },\n    {\n      \"column\": \"LastWorkingDate\",\n      \"properties\": {\n        \"dtype\": \"date\",\n        \"min\": \"2018-12-31 00:00:00\",\n        \"max\": \"2020-12-28 00:00:00\",\n        \"num_unique_values\": 493,\n        \"samples\": [],\n        \"semantic_type\": \"\",\n        \"description\": \"\"\n      }\n    },\n    {\n      \"column\": \"Joining Designation\",\n      \"properties\": {\n        \"dtype\": \"number\",\n        \"std\": 0.8369837171189233,\n        \"min\": 1.0,\n        \"max\": 5.0,\n        \"num_unique_values\": 5,\n        \"samples\": [],\n        \"semantic_type\": \"\",\n        \"description\": \"\"\n      }\n    },\n    {\n      \"column\": \"Grade\",\n      \"properties\": {\n        \"dtype\": \"number\",\n        \"std\": 1.0265124881442695,\n        \"min\": 1.0,\n        \"max\": 5.0,\n        \"num_unique_values\": 5,\n        \"samples\": [],\n        \"semantic_type\": \"\",\n        \"description\": \"\"\n      }\n    },\n    {\n      \"column\": \"Total Business Value\",\n      \"properties\": {\n        \"dtype\": \"number\",\n        \"std\": 1128312.2184612986,\n        \"min\": -6000000.0,\n        \"max\": 33747720.0,\n        \"num_unique_values\": 10181,\n        \"samples\": [],\n        \"semantic_type\": \"\",\n        \"description\": \"\"\n      }\n    },\n    {\n      \"column\": \"Quarterly Rating\",\n      \"properties\": {\n        \"dtype\": \"number\",\n        \"std\": 1.0098319788169583,\n        \"min\": 1.0,\n        \"max\": 4.0,\n        \"num_unique_values\": 4,\n        \"samples\": [],\n        \"semantic_type\": \"\",\n        \"description\": \"\"\n      }\n    }\n  ]\n}"
            }
          },
          "metadata": {},
          "execution_count": 15
        }
      ]
    },
    {
      "cell_type": "code",
      "source": [
        "#5. Feature Engineering\n",
        "# Create target variable: 1 if LastWorkingDate is present, else 0\n",
        "df_agg['target'] = df_agg['LastWorkingDate'].notnull().astype(int)"
      ],
      "metadata": {
        "id": "yx2TclgsZqWD"
      },
      "execution_count": 16,
      "outputs": []
    },
    {
      "cell_type": "code",
      "source": [
        "# Create binary feature for income increase\n",
        "df_income = df[['Driver_ID', 'MMM-YY', 'Income']].sort_values(by=['Driver_ID', 'MMM-YY'])\n",
        "df_income['Income_Change'] = df_income.groupby('Driver_ID')['Income'].diff()\n",
        "df_income['Income_Increase'] = (df_income['Income_Change'] > 0).astype(int)\n",
        "income_increase = df_income.groupby('Driver_ID')['Income_Increase'].max().reset_index()\n",
        "df_agg = df_agg.merge(income_increase, on='Driver_ID', how='left')"
      ],
      "metadata": {
        "id": "wDfs4Empbjk9"
      },
      "execution_count": 19,
      "outputs": []
    },
    {
      "cell_type": "code",
      "source": [
        "# Create binary feature for quarterly rating increase\n",
        "df_rating = df[['Driver_ID', 'MMM-YY', 'Quarterly Rating']].sort_values(by=['Driver_ID', 'MMM-YY'])\n",
        "df_rating['Rating_Change'] = df_rating.groupby('Driver_ID')['Quarterly Rating'].diff()\n",
        "df_rating['Rating_Increase'] = (df_rating['Rating_Change'] > 0).astype(int)\n",
        "rating_increase = df_rating.groupby('Driver_ID')['Rating_Increase'].max().reset_index()\n",
        "df_agg = df_agg.merge(rating_increase, on='Driver_ID', how='left')"
      ],
      "metadata": {
        "id": "HEjVHISMbpHG"
      },
      "execution_count": 20,
      "outputs": []
    },
    {
      "cell_type": "code",
      "source": [
        "#6. Encoding Categorical Variables\n",
        "# One-hot encode categorical variables\n",
        "df_encoded = pd.get_dummies(df_agg, columns=['Gender', 'City', 'Education_Level', 'Grade'], drop_first=True)"
      ],
      "metadata": {
        "id": "3HLNMKP6b438"
      },
      "execution_count": 21,
      "outputs": []
    },
    {
      "cell_type": "code",
      "source": [
        "#7 7. Handling Class Imbalance with SMOTE\n",
        "from imblearn.over_sampling import SMOTE\n",
        "from sklearn.model_selection import train_test_split"
      ],
      "metadata": {
        "id": "A-mxsspnb9WI"
      },
      "execution_count": 22,
      "outputs": []
    },
    {
      "cell_type": "code",
      "source": [
        "# Define features and target\n",
        "X = df_encoded.drop(['Driver_ID', 'Dateofjoining', 'LastWorkingDate', 'Joining Designation', 'target'], axis=1)\n",
        "y = df_encoded['target']"
      ],
      "metadata": {
        "id": "SIgQT1ZRcAKb"
      },
      "execution_count": 24,
      "outputs": []
    },
    {
      "cell_type": "code",
      "source": [
        "# Split into training and testing sets\n",
        "X_train, X_test, y_train, y_test = train_test_split(X, y, test_size=0.2, stratify=y, random_state=42)"
      ],
      "metadata": {
        "id": "VNIzL05ScCzi"
      },
      "execution_count": 25,
      "outputs": []
    },
    {
      "cell_type": "code",
      "source": [
        "# Apply SMOTE to balance classes\n",
        "smote = SMOTE(random_state=42)\n",
        "X_train_res, y_train_res = smote.fit_resample(X_train, y_train)"
      ],
      "metadata": {
        "id": "DkxGLPyWcJMx"
      },
      "execution_count": 26,
      "outputs": []
    },
    {
      "cell_type": "code",
      "source": [
        "#8. Feature Scaling\n",
        "# Standardize the features\n",
        "scaler = StandardScaler()\n",
        "X_train_scaled = scaler.fit_transform(X_train_res)\n",
        "X_test_scaled = scaler.transform(X_test)"
      ],
      "metadata": {
        "id": "FOQahP5scPfh"
      },
      "execution_count": 27,
      "outputs": []
    },
    {
      "cell_type": "code",
      "source": [
        "#9. Model Building with Ensemble Methods\n",
        "from sklearn.ensemble import RandomForestClassifier, GradientBoostingClassifier\n",
        "from sklearn.metrics import classification_report, roc_auc_score, confusion_matrix\n",
        "import matplotlib.pyplot as plt\n",
        "from sklearn.metrics import RocCurveDisplay"
      ],
      "metadata": {
        "id": "Zljb7RE7cSpr"
      },
      "execution_count": 28,
      "outputs": []
    },
    {
      "cell_type": "code",
      "source": [
        "# Random Forest Classifier\n",
        "rf = RandomForestClassifier(n_estimators=100, random_state=42)\n",
        "rf.fit(X_train_scaled, y_train_res)\n",
        "y_pred_rf = rf.predict(X_test_scaled)\n",
        "y_proba_rf = rf.predict_proba(X_test_scaled)[:, 1]"
      ],
      "metadata": {
        "id": "TrJVcE-KcVkq"
      },
      "execution_count": 29,
      "outputs": []
    },
    {
      "cell_type": "code",
      "source": [
        "# Gradient Boosting Classifier\n",
        "gb = GradientBoostingClassifier(n_estimators=100, learning_rate=0.1, random_state=42)\n",
        "gb.fit(X_train_scaled, y_train_res)\n",
        "y_pred_gb = gb.predict(X_test_scaled)\n",
        "y_proba_gb = gb.predict_proba(X_test_scaled)[:, 1]"
      ],
      "metadata": {
        "id": "ueuj8BxYcanR"
      },
      "execution_count": 30,
      "outputs": []
    },
    {
      "cell_type": "code",
      "source": [
        "#10. Model Evaluation\n",
        "# Evaluation for Random Forest\n",
        "print(\"Random Forest Classification Report:\")\n",
        "print(classification_report(y_test, y_pred_rf))\n",
        "print(\"Random Forest Confusion Matrix:\")\n",
        "print(confusion_matrix(y_test, y_pred_rf))\n",
        "print(\"Random Forest ROC AUC Score:\", roc_auc_score(y_test, y_proba_rf))"
      ],
      "metadata": {
        "colab": {
          "base_uri": "https://localhost:8080/"
        },
        "id": "OtgH-kbXcdpX",
        "outputId": "d50d2399-b6bc-45f5-9310-3a44e26ad972"
      },
      "execution_count": 31,
      "outputs": [
        {
          "output_type": "stream",
          "name": "stdout",
          "text": [
            "Random Forest Classification Report:\n",
            "              precision    recall  f1-score   support\n",
            "\n",
            "           0       0.61      0.59      0.60       153\n",
            "           1       0.81      0.82      0.82       324\n",
            "\n",
            "    accuracy                           0.75       477\n",
            "   macro avg       0.71      0.71      0.71       477\n",
            "weighted avg       0.75      0.75      0.75       477\n",
            "\n",
            "Random Forest Confusion Matrix:\n",
            "[[ 91  62]\n",
            " [ 57 267]]\n",
            "Random Forest ROC AUC Score: 0.7833353506011458\n"
          ]
        }
      ]
    },
    {
      "cell_type": "code",
      "source": [
        "# Evaluation for Gradient Boosting\n",
        "print(\"\\nGradient Boosting Classification Report:\")\n",
        "print(classification_report(y_test, y_pred_gb))\n",
        "print(\"Gradient Boosting Confusion Matrix:\")\n",
        "print(confusion_matrix(y_test, y_pred_gb))\n",
        "print(\"Gradient Boosting ROC AUC Score:\", roc_auc_score(y_test, y_proba_gb))"
      ],
      "metadata": {
        "colab": {
          "base_uri": "https://localhost:8080/"
        },
        "id": "ehc94R5EciNN",
        "outputId": "2eb2574c-cf8f-4bac-8f59-df4830d60609"
      },
      "execution_count": 32,
      "outputs": [
        {
          "output_type": "stream",
          "name": "stdout",
          "text": [
            "\n",
            "Gradient Boosting Classification Report:\n",
            "              precision    recall  f1-score   support\n",
            "\n",
            "           0       0.62      0.61      0.62       153\n",
            "           1       0.82      0.82      0.82       324\n",
            "\n",
            "    accuracy                           0.76       477\n",
            "   macro avg       0.72      0.72      0.72       477\n",
            "weighted avg       0.76      0.76      0.76       477\n",
            "\n",
            "Gradient Boosting Confusion Matrix:\n",
            "[[ 94  59]\n",
            " [ 57 267]]\n",
            "Gradient Boosting ROC AUC Score: 0.7993221980150085\n"
          ]
        }
      ]
    },
    {
      "cell_type": "code",
      "source": [
        "# Plot ROC Curve for both models\n",
        "RocCurveDisplay.from_estimator(rf, X_test_scaled, y_test, name='Random Forest')\n",
        "RocCurveDisplay.from_estimator(gb, X_test_scaled, y_test, name='Gradient Boosting')\n",
        "plt.title('ROC Curve Comparison')\n",
        "plt.show()"
      ],
      "metadata": {
        "colab": {
          "base_uri": "https://localhost:8080/",
          "height": 906
        },
        "id": "KjkQuA-kcnSo",
        "outputId": "5db45880-4820-40e8-f7eb-d3fb95a7e452"
      },
      "execution_count": 33,
      "outputs": [
        {
          "output_type": "display_data",
          "data": {
            "text/plain": [
              "<Figure size 640x480 with 1 Axes>"
            ],
            "image/png": "[encoded data removed]"
          },
          "metadata": {}
        },
        {
          "output_type": "display_data",
          "data": {
            "text/plain": [
              "<Figure size 640x480 with 1 Axes>"
            ],
            "image/png": "[encoded data removed]"
          },
          "metadata": {}
        }
      ]
    },
    {
      "cell_type": "markdown",
      "source": [
        "11. Actionable Recommendations\n",
        "* Based on the analysis and model predictions:\n",
        "\n",
        "1.Focus on Recall: Prioritize models with higher recall to ensure most at-risk drivers are identified, even if it means more false positives.\n",
        "\n",
        "2.Driver Segmentation: Identify segments (e.g., age groups, cities) with higher attrition rates for targeted interventions.\n",
        "\n",
        "3.Performance Monitoring: Regularly track key performance indicators like Quarterly Rating and Income to proactively address declines.\n",
        "\n",
        "4.Retention Strategies: Develop personalized incentives and flexible working conditions for drivers showing early signs of disengagement.\n",
        "\n",
        "5.Threshold Adjustment: Adjust the decision threshold based on business priorities:\n",
        "\n",
        "6.Lower threshold for higher recall (retain more drivers).\n",
        "\n",
        "7.Higher threshold for higher precision (cost-saving)."
      ],
      "metadata": {
        "id": "0vX_XcYkczXD"
      }
    }
  ]
}